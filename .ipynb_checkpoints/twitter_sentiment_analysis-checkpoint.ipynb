{
 "cells": [
  {
   "cell_type": "code",
   "execution_count": 1,
   "metadata": {},
   "outputs": [],
   "source": [
    "### importing the required libraries\n",
    "\n",
    "import os\n",
    "import pandas as pd\n",
    "import matplotlib.pyplot as plt\n",
    "import seaborn as sns\n",
    "import itertools\n",
    "import collections\n",
    "from datetime import datetime, timedelta\n",
    "\n",
    "import tweepy as tw\n",
    "import nltk\n",
    "from nltk.corpus import stopwords\n",
    "import re\n",
    "from textblob import TextBlob\n",
    "\n",
    "import warnings\n",
    "warnings.filterwarnings(\"ignore\")\n",
    "\n",
    "sns.set(font_scale=1.5)\n",
    "sns.set_style(\"whitegrid\")"
   ]
  },
  {
   "cell_type": "code",
   "execution_count": 2,
   "metadata": {},
   "outputs": [],
   "source": [
    "### Authenticating with the twitter developer api credentials\n",
    "\n",
    "consumer_key= 'hnPHjGddKnmxpoRNTVstppZUv'\n",
    "consumer_secret= 'vVpBL4B6akqX99Gaey5i1TVOSzKQCtUG76lj9TXlMlZknbdKvz'\n",
    "access_token= '2832615841-jK6GnrbhbHQ2Zl4WsgC6PaMV2EIuhLAREcnvAZ2'\n",
    "access_token_secret= 'TgHw4m4QsTlV4IUvgdH1Iqf3WF8DG5ZBMQgpfosJmnsXx'\n",
    "\n",
    "auth = tw.OAuthHandler(consumer_key, consumer_secret)\n",
    "auth.set_access_token(access_token, access_token_secret)\n",
    "api = tw.API(auth, wait_on_rate_limit=True)"
   ]
  },
  {
   "cell_type": "code",
   "execution_count": 3,
   "metadata": {},
   "outputs": [],
   "source": [
    "### get the top trends i the world. Param \"1\" passed corresponds to the worldwide trends on twitter \n",
    "\n",
    "trends_result = api.trends_place(1)\n",
    "\n",
    "### get the top trending hashtag on twitter and remove/filter the retweets for analysis\n",
    "search_tag = trends_result[0][\"trends\"][15][\"name\"] + \" -filter:retweets\""
   ]
  },
  {
   "cell_type": "code",
   "execution_count": 4,
   "metadata": {},
   "outputs": [],
   "source": [
    "### a function to remove urls from the tweets\n",
    "\n",
    "def remove_urls(text):\n",
    "    url_pattern = re.compile(r'https?://\\S+|www\\.\\S+')\n",
    "    no_url = url_pattern.sub(r'', text)\n",
    "    return \" \".join(no_url.split())"
   ]
  },
  {
   "cell_type": "code",
   "execution_count": 5,
   "metadata": {},
   "outputs": [],
   "source": [
    "### a function to remove inconsistencies in word casing (\"Hello\" vs \"hello\". They should be considered a single word)\n",
    "\n",
    "def correct_case(text):\n",
    "    return text.lower().split()"
   ]
  },
  {
   "cell_type": "code",
   "execution_count": 6,
   "metadata": {},
   "outputs": [
    {
     "name": "stderr",
     "output_type": "stream",
     "text": [
      "[nltk_data] Downloading package stopwords to\n",
      "[nltk_data]     C:\\Users\\rites\\AppData\\Roaming\\nltk_data...\n",
      "[nltk_data]   Package stopwords is already up-to-date!\n"
     ]
    }
   ],
   "source": [
    "### a function to remove stop words from the tweets\n",
    "\n",
    "### remove collection words from the tweets. Collection words are those which we used as a query to the api (Our top tweet hashtag)\n",
    "\n",
    "nltk.download('stopwords')\n",
    "stop_words = set(stopwords.words('english'))\n",
    "\n",
    "collection_words = []\n",
    "collection_words.append(search_tag)\n",
    "collection_words.append(search_tag[1:])\n",
    "\n",
    "def remove_stopwords_collectionwords(list_words):\n",
    "    return [word for word in list_words if ((word not in stop_words)& (word not in collection_words))]"
   ]
  },
  {
   "cell_type": "code",
   "execution_count": 7,
   "metadata": {},
   "outputs": [],
   "source": [
    "### Defining from when We wish to analyze the tweet data\n",
    "### On twitter, the max days a hashtag can remain trending is \"2\" (In general). After that, even though the hashtag is used, it doesnt trend\n",
    "\n",
    "n_days_ago = 2\n",
    "date_since = datetime.now()-timedelta(days = n_days_ago)\n",
    "date_since = date_since.date()"
   ]
  },
  {
   "cell_type": "code",
   "execution_count": 8,
   "metadata": {},
   "outputs": [],
   "source": [
    "def get_tweets(search_tag):\n",
    "    tweets = tw.Cursor(api.search,\n",
    "                   q=search_tag,\n",
    "                   lang=\"en\",\n",
    "                   since=date_since).items(1000)\n",
    "    tweets_list = [tweet.text for tweet in tweets]\n",
    "    return tweets_list"
   ]
  },
  {
   "cell_type": "code",
   "execution_count": 9,
   "metadata": {},
   "outputs": [],
   "source": [
    "def prepare_data(tweets):\n",
    "    tweet_data = []\n",
    "    for tweet in tweets:\n",
    "        rm_url = remove_urls(tweet)\n",
    "        c_case = correct_case(rm_url)\n",
    "        rm_words = remove_stopwords_collectionwords(c_case)\n",
    "        tweet_data.append(rm_words)\n",
    "    return tweet_data"
   ]
  },
  {
   "cell_type": "code",
   "execution_count": 10,
   "metadata": {},
   "outputs": [],
   "source": [
    "tweets = get_tweets(search_tag)\n",
    "tweet_data = prepare_data(tweets)"
   ]
  },
  {
   "cell_type": "code",
   "execution_count": 11,
   "metadata": {},
   "outputs": [
    {
     "name": "stdout",
     "output_type": "stream",
     "text": [
      "1000\n"
     ]
    },
    {
     "data": {
      "text/plain": [
       "[['taetae:',\n",
       "  'healer',\n",
       "  '💜',\n",
       "  '#happytaehyungday',\n",
       "  '#happyvday_태형이의날들이밝게빛나길',\n",
       "  '@bts_twt'],\n",
       " ['@mickey190306',\n",
       "  '@jeonjk_tiddies',\n",
       "  '@taetae_goals',\n",
       "  '@touchsome_grass',\n",
       "  'audition',\n",
       "  'bighit',\n",
       "  'sir',\n",
       "  'trump'],\n",
       " ['@bts_twt',\n",
       "  'omg',\n",
       "  'babies!!\\U0001f97a\\U0001f97a',\n",
       "  'happy',\n",
       "  'birthday',\n",
       "  'taetae',\n",
       "  'love',\n",
       "  'made',\n",
       "  'life',\n",
       "  'much',\n",
       "  'better',\n",
       "  'without',\n",
       "  'even',\n",
       "  'knowing',\n",
       "  't…']]"
      ]
     },
     "execution_count": 11,
     "metadata": {},
     "output_type": "execute_result"
    }
   ],
   "source": [
    "print(len(tweet_data))\n",
    "\n",
    "tweet_data[:3]"
   ]
  },
  {
   "cell_type": "code",
   "execution_count": 12,
   "metadata": {},
   "outputs": [],
   "source": [
    "tweet_data = [\" \".join(ele) for ele in tweet_data]"
   ]
  },
  {
   "cell_type": "code",
   "execution_count": 13,
   "metadata": {},
   "outputs": [
    {
     "data": {
      "text/plain": [
       "'taetae: healer 💜 #happytaehyungday #happyvday_태형이의날들이밝게빛나길 @bts_twt'"
      ]
     },
     "execution_count": 13,
     "metadata": {},
     "output_type": "execute_result"
    }
   ],
   "source": [
    "tweet_data[0]"
   ]
  },
  {
   "cell_type": "markdown",
   "metadata": {},
   "source": [
    "### Note : \n",
    "- However large the max_items no is, the max it is retreiving is 1000 tweets"
   ]
  },
  {
   "cell_type": "code",
   "execution_count": 14,
   "metadata": {},
   "outputs": [],
   "source": [
    "senti_objects = [TextBlob(tweet) for tweet in tweet_data]"
   ]
  },
  {
   "cell_type": "code",
   "execution_count": 15,
   "metadata": {},
   "outputs": [],
   "source": [
    "sentiment_values = [[str(tweet), tweet.sentiment.polarity] for tweet in senti_objects]"
   ]
  },
  {
   "cell_type": "code",
   "execution_count": 16,
   "metadata": {},
   "outputs": [
    {
     "data": {
      "text/html": [
       "<div>\n",
       "<style scoped>\n",
       "    .dataframe tbody tr th:only-of-type {\n",
       "        vertical-align: middle;\n",
       "    }\n",
       "\n",
       "    .dataframe tbody tr th {\n",
       "        vertical-align: top;\n",
       "    }\n",
       "\n",
       "    .dataframe thead th {\n",
       "        text-align: right;\n",
       "    }\n",
       "</style>\n",
       "<table border=\"1\" class=\"dataframe\">\n",
       "  <thead>\n",
       "    <tr style=\"text-align: right;\">\n",
       "      <th></th>\n",
       "      <th>tweet</th>\n",
       "      <th>polarity</th>\n",
       "    </tr>\n",
       "  </thead>\n",
       "  <tbody>\n",
       "    <tr>\n",
       "      <th>0</th>\n",
       "      <td>taetae: healer 💜 #happytaehyungday #happyvday_...</td>\n",
       "      <td>0.000000</td>\n",
       "    </tr>\n",
       "    <tr>\n",
       "      <th>1</th>\n",
       "      <td>@mickey190306 @jeonjk_tiddies @taetae_goals @t...</td>\n",
       "      <td>0.000000</td>\n",
       "    </tr>\n",
       "    <tr>\n",
       "      <th>2</th>\n",
       "      <td>@bts_twt omg babies!!🥺🥺 happy birthday taetae ...</td>\n",
       "      <td>0.600000</td>\n",
       "    </tr>\n",
       "    <tr>\n",
       "      <th>3</th>\n",
       "      <td>happy taetae day 🐻💜🍓</td>\n",
       "      <td>0.800000</td>\n",
       "    </tr>\n",
       "    <tr>\n",
       "      <th>4</th>\n",
       "      <td>@bts_twt happy birthday taehyungieee love hope...</td>\n",
       "      <td>0.520312</td>\n",
       "    </tr>\n",
       "  </tbody>\n",
       "</table>\n",
       "</div>"
      ],
      "text/plain": [
       "                                               tweet  polarity\n",
       "0  taetae: healer 💜 #happytaehyungday #happyvday_...  0.000000\n",
       "1  @mickey190306 @jeonjk_tiddies @taetae_goals @t...  0.000000\n",
       "2  @bts_twt omg babies!!🥺🥺 happy birthday taetae ...  0.600000\n",
       "3                               happy taetae day 🐻💜🍓  0.800000\n",
       "4  @bts_twt happy birthday taehyungieee love hope...  0.520312"
      ]
     },
     "execution_count": 16,
     "metadata": {},
     "output_type": "execute_result"
    }
   ],
   "source": [
    "senti_df = pd.DataFrame(sentiment_values, columns=[\"tweet\",\"polarity\"])\n",
    "senti_df.head()"
   ]
  },
  {
   "cell_type": "code",
   "execution_count": 17,
   "metadata": {},
   "outputs": [
    {
     "data": {
      "image/png": "[encoded data removed]",
      "text/plain": [
       "<Figure size 576x432 with 1 Axes>"
      ]
     },
     "metadata": {},
     "output_type": "display_data"
    }
   ],
   "source": [
    "fig, ax = plt.subplots(figsize=(8, 6))\n",
    "\n",
    "# Plot histogram of the polarity values\n",
    "senti_df.hist(bins=[-1, -0.75, -0.5, -0.25, 0.25, 0.5, 0.75, 1],\n",
    "             ax=ax,\n",
    "             color=\"blue\")\n",
    "\n",
    "plt.title(\"Sentiments from Tweets on Climate Change\")\n",
    "plt.show()"
   ]
  },
  {
   "cell_type": "code",
   "execution_count": 18,
   "metadata": {},
   "outputs": [],
   "source": [
    "# Remove polarity values equal to zero to better see the pattern\n",
    "\n",
    "senti_df = senti_df[senti_df.polarity != 0]"
   ]
  },
  {
   "cell_type": "code",
   "execution_count": 19,
   "metadata": {},
   "outputs": [
    {
     "data": {
      "image/png": "[encoded data removed]",
      "text/plain": [
       "<Figure size 576x432 with 1 Axes>"
      ]
     },
     "metadata": {},
     "output_type": "display_data"
    }
   ],
   "source": [
    "fig, ax = plt.subplots(figsize=(8, 6))\n",
    "\n",
    "# Plot histogram of the polarity values\n",
    "senti_df.hist(bins=[-1, -0.75, -0.5, -0.25,0.0, 0.25, 0.5, 0.75, 1],\n",
    "             ax=ax,\n",
    "             color=\"blue\")\n",
    "\n",
    "plt.title(\"Sentiments from Tweets on Climate Change\")\n",
    "plt.show()"
   ]
  },
  {
   "cell_type": "code",
   "execution_count": null,
   "metadata": {},
   "outputs": [],
   "source": []
  }
 ],
 "metadata": {
  "kernelspec": {
   "display_name": "Python 3",
   "language": "python",
   "name": "python3"
  },
  "language_info": {
   "codemirror_mode": {
    "name": "ipython",
    "version": 3
   },
   "file_extension": ".py",
   "mimetype": "text/x-python",
   "name": "python",
   "nbconvert_exporter": "python",
   "pygments_lexer": "ipython3",
   "version": "3.6.5"
  },
  "toc": {
   "base_numbering": 1,
   "nav_menu": {},
   "number_sections": true,
   "sideBar": true,
   "skip_h1_title": false,
   "title_cell": "Table of Contents",
   "title_sidebar": "Contents",
   "toc_cell": false,
   "toc_position": {},
   "toc_section_display": true,
   "toc_window_display": false
  }
 },
 "nbformat": 4,
 "nbformat_minor": 2
}
